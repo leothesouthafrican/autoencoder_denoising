{
 "cells": [
  {
   "cell_type": "code",
   "execution_count": 1,
   "metadata": {},
   "outputs": [
    {
     "name": "stdout",
     "output_type": "stream",
     "text": [
      "Files already downloaded and verified\n"
     ]
    },
    {
     "name": "stderr",
     "output_type": "stream",
     "text": [
      "Processing: 100%|██████████| 313/313 [00:28<00:00, 11.15it/s, Batch Train Loss=0.0052]\n"
     ]
    },
    {
     "name": "stdout",
     "output_type": "stream",
     "text": [
      "Validation Loss: 0.0037\n",
      "Epoch [1/2] Average Train Loss: 0.0087, Average Validation Loss: 0.0037\n"
     ]
    },
    {
     "name": "stderr",
     "output_type": "stream",
     "text": [
      "Processing: 100%|██████████| 313/313 [00:22<00:00, 13.97it/s, Batch Train Loss=0.0029]\n"
     ]
    },
    {
     "name": "stdout",
     "output_type": "stream",
     "text": [
      "Validation Loss: 0.0025\n",
      "Epoch [2/2] Average Train Loss: 0.0037, Average Validation Loss: 0.0025\n"
     ]
    }
   ],
   "source": [
    "# main.py\n",
    "\n",
    "import torch\n",
    "import torch.nn as nn\n",
    "from torchvision import datasets, transforms\n",
    "from torch.utils.data import DataLoader, random_split\n",
    "from training_functions import train_denoising_model, validate_model\n",
    "from autoencoders import Autoencoder1\n",
    "import torch.optim as optim\n",
    "from tqdm import tqdm\n",
    "\n",
    "# Set random seed for reproducibility\n",
    "torch.manual_seed(0)\n",
    "\n",
    "# Set environment variables\n",
    "TRAIN_FUNCTION = train_denoising_model\n",
    "MODEL = Autoencoder2\n",
    "EPOCHS = 2\n",
    "DEVICE = \"mps\"\n",
    "NOISE_FACTOR = 0.1\n",
    "\n",
    "# Load data and set DataLoader\n",
    "transform = transforms.Compose([transforms.ToTensor()])\n",
    "full_dataset = datasets.CIFAR10('./data', train=True, download=True, transform=transform)\n",
    "\n",
    "# Split dataset into training and validation sets\n",
    "train_size = int(0.8 * len(full_dataset))\n",
    "valid_size = len(full_dataset) - train_size\n",
    "train_dataset, valid_dataset = random_split(full_dataset, [train_size, valid_size])\n",
    "\n",
    "train_loader = DataLoader(train_dataset, batch_size=128, shuffle=True)\n",
    "valid_loader = DataLoader(valid_dataset, batch_size=128, shuffle=False)\n",
    "\n",
    "# Initialize model, criterion, and optimizer\n",
    "model = MODEL().to(DEVICE)\n",
    "criterion = nn.MSELoss().to(DEVICE)\n",
    "optimizer = optim.Adam(model.parameters(), lr=0.001)\n",
    "\n",
    "# Training and Validation\n",
    "train_losses = []\n",
    "valid_losses = []\n",
    "\n",
    "for epoch in range(EPOCHS):\n",
    "\n",
    "    # Training\n",
    "    train_loss = 0.0\n",
    "    pbar = tqdm(enumerate(train_loader), desc=\"Processing\", total=len(train_loader), leave=True)  # tqdm for batches\n",
    "    for batch_idx, (data, _) in pbar:\n",
    "        loss = TRAIN_FUNCTION(model, data, NOISE_FACTOR, optimizer, criterion, DEVICE, should_flatten=False)\n",
    "        train_loss += loss\n",
    "        pbar.set_postfix({'Batch Train Loss': f\"{loss:.4f}\"})\n",
    "\n",
    "    avg_train_loss = train_loss / len(train_loader)\n",
    "    train_losses.append(avg_train_loss)\n",
    "\n",
    "    # Validation\n",
    "    valid_loss = validate_model(model, valid_loader, device=DEVICE, should_flatten=False)\n",
    "    valid_losses.append(valid_loss)\n",
    "\n",
    "    print(f\"Epoch [{epoch+1}/{EPOCHS}] Average Train Loss: {avg_train_loss:.4f}, Average Validation Loss: {valid_loss:.4f}\")\n"
   ]
  },
  {
   "cell_type": "code",
   "execution_count": null,
   "metadata": {},
   "outputs": [],
   "source": []
  }
 ],
 "metadata": {
  "kernelspec": {
   "display_name": "env",
   "language": "python",
   "name": "python3"
  },
  "language_info": {
   "codemirror_mode": {
    "name": "ipython",
    "version": 3
   },
   "file_extension": ".py",
   "mimetype": "text/x-python",
   "name": "python",
   "nbconvert_exporter": "python",
   "pygments_lexer": "ipython3",
   "version": "3.11.4"
  },
  "orig_nbformat": 4
 },
 "nbformat": 4,
 "nbformat_minor": 2
}
